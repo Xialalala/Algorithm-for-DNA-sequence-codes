{
  "nbformat": 4,
  "nbformat_minor": 0,
  "metadata": {
    "colab": {
      "name": "hm-Week1.ipynb",
      "provenance": []
    },
    "kernelspec": {
      "name": "python3",
      "display_name": "Python 3"
    }
  },
  "cells": [
    {
      "cell_type": "code",
      "metadata": {
        "id": "GbAWKWgxHp3b",
        "colab_type": "code",
        "colab": {
          "base_uri": "https://localhost:8080/",
          "height": 204
        },
        "outputId": "ed66df2d-1640-4818-9c3d-388a6a92a309"
      },
      "source": [
        "!wget --no-check https://d28rh4a8wq0iu5.cloudfront.net/ads1/data/lambda_virus.fa"
      ],
      "execution_count": 2,
      "outputs": [
        {
          "output_type": "stream",
          "text": [
            "--2020-04-18 02:30:24--  https://d28rh4a8wq0iu5.cloudfront.net/ads1/data/lambda_virus.fa\n",
            "Resolving d28rh4a8wq0iu5.cloudfront.net (d28rh4a8wq0iu5.cloudfront.net)... 52.85.107.15, 52.85.107.28, 52.85.107.230, ...\n",
            "Connecting to d28rh4a8wq0iu5.cloudfront.net (d28rh4a8wq0iu5.cloudfront.net)|52.85.107.15|:443... connected.\n",
            "HTTP request sent, awaiting response... 200 OK\n",
            "Length: 49270 (48K) [application/octet-stream]\n",
            "Saving to: ‘lambda_virus.fa’\n",
            "\n",
            "lambda_virus.fa     100%[===================>]  48.12K  --.-KB/s    in 0.08s   \n",
            "\n",
            "2020-04-18 02:30:25 (635 KB/s) - ‘lambda_virus.fa’ saved [49270/49270]\n",
            "\n"
          ],
          "name": "stdout"
        }
      ]
    },
    {
      "cell_type": "code",
      "metadata": {
        "id": "jtYqwcOmH369",
        "colab_type": "code",
        "colab": {}
      },
      "source": [
        "def readGenome(filename):\n",
        "    genome = ''\n",
        "    with open(filename, 'r') as f:\n",
        "        for line in f:\n",
        "            # ignore header line with genome information\n",
        "            if not line[0] == '>':\n",
        "                genome += line.rstrip()\n",
        "    return genome\n",
        "genome = readGenome(\"lambda_virus.fa\")"
      ],
      "execution_count": 0,
      "outputs": []
    },
    {
      "cell_type": "code",
      "metadata": {
        "id": "vZoiVxeUMLa3",
        "colab_type": "code",
        "colab": {
          "base_uri": "https://localhost:8080/",
          "height": 34
        },
        "outputId": "7a16263e-5ce5-4897-9d06-03edc2e12399"
      },
      "source": [
        "len(genome)"
      ],
      "execution_count": 9,
      "outputs": [
        {
          "output_type": "execute_result",
          "data": {
            "text/plain": [
              "48502"
            ]
          },
          "metadata": {
            "tags": []
          },
          "execution_count": 9
        }
      ]
    },
    {
      "cell_type": "code",
      "metadata": {
        "id": "qBvyOK4hIR4s",
        "colab_type": "code",
        "colab": {}
      },
      "source": [
        "def reverseComplement(s):\n",
        "    complement = {'A': 'T', 'C': 'G', 'G': 'C', 'T': 'A', 'N': 'N'}\n",
        "    t = ''\n",
        "    for base in s:\n",
        "        t = complement[base] + t\n",
        "    return t"
      ],
      "execution_count": 0,
      "outputs": []
    },
    {
      "cell_type": "code",
      "metadata": {
        "id": "Mgc7haymIqKm",
        "colab_type": "code",
        "colab": {}
      },
      "source": [
        "def naive(p, t):\n",
        "    occurrences = []\n",
        "    for i in range(len(t) - len(p) + 1):  # loop over alignments\n",
        "        match = True\n",
        "        for j in range(len(p)):  # loop over characters\n",
        "            if t[i+j] != p[j]:  # compare characters\n",
        "                match = False\n",
        "                break\n",
        "        if match:\n",
        "            occurrences.append(i)  # all chars matched; record\n",
        "    return occurrences\n"
      ],
      "execution_count": 0,
      "outputs": []
    },
    {
      "cell_type": "code",
      "metadata": {
        "id": "9ItO_F6rJctd",
        "colab_type": "code",
        "colab": {}
      },
      "source": [
        "numMatch = 0\n",
        "n = 0\n",
        "for r in genome:\n",
        "  matches = naive (r, ref)\n",
        "  if r != reverseComplement(r):\n",
        "    matches.extend(naive (reverseComplement(r), ref))\n",
        "    n +=1\n",
        "    if len(matches) > 0:\n",
        "        numMatch += 1\n",
        "print(\"%d /%d reads matches the genome\" % (numMatch, n))"
      ],
      "execution_count": 0,
      "outputs": []
    },
    {
      "cell_type": "code",
      "metadata": {
        "id": "rROKxebrMYCF",
        "colab_type": "code",
        "colab": {
          "base_uri": "https://localhost:8080/",
          "height": 34
        },
        "outputId": "de1e07d5-93a7-49bb-fe1a-44d373fb6d4b"
      },
      "source": [
        "numMatch = 0\n",
        "n = 0\n",
        "matches = naive (\"AGTCGA\", genome)\n",
        "if \"AGTCGA\" != reverseComplement(\"AGTCGA\"):\n",
        "    matches.extend(naive(reverseComplement(\"AGTCGA\"), genome))\n",
        "else:\n",
        "  end\n",
        "    \n",
        "print(matches)"
      ],
      "execution_count": 21,
      "outputs": [
        {
          "output_type": "stream",
          "text": [
            "[18005, 23320, 33657, 44806, 450, 1908, 2472, 41927, 45369]\n"
          ],
          "name": "stdout"
        }
      ]
    },
    {
      "cell_type": "code",
      "metadata": {
        "id": "40TdfDG7PsB-",
        "colab_type": "code",
        "colab": {}
      },
      "source": [
        "def naive_2mm(p, t):\n",
        "    occurrences = []\n",
        "    for i in range(len(t) - len(p) + 1):\n",
        "        mismatch = 0\n",
        "        for j in range(len(p)):\n",
        "            if t[i+j] != p[j]:\n",
        "                mismatch += 1\n",
        "        if mismatch <= 2:\n",
        "          occurrences.append(i)\n",
        "    return occurrences"
      ],
      "execution_count": 0,
      "outputs": []
    },
    {
      "cell_type": "code",
      "metadata": {
        "id": "f4ppG7gVQGYD",
        "colab_type": "code",
        "colab": {}
      },
      "source": [
        "code = \"AGGAGGTT\""
      ],
      "execution_count": 0,
      "outputs": []
    },
    {
      "cell_type": "code",
      "metadata": {
        "id": "0QIsgFCvQD5F",
        "colab_type": "code",
        "colab": {
          "base_uri": "https://localhost:8080/",
          "height": 34
        },
        "outputId": "cc838ce4-714b-440c-d1d7-a15f0772107f"
      },
      "source": [
        "numMatch = 0\n",
        "n = 0\n",
        "matches = naive_2mm (code, genome)\n",
        "    \n",
        "print(len(matches))"
      ],
      "execution_count": 31,
      "outputs": [
        {
          "output_type": "stream",
          "text": [
            "215\n"
          ],
          "name": "stdout"
        }
      ]
    },
    {
      "cell_type": "code",
      "metadata": {
        "id": "uWqeDQeyQk1L",
        "colab_type": "code",
        "colab": {
          "base_uri": "https://localhost:8080/",
          "height": 204
        },
        "outputId": "4dc78d17-c308-4cb6-941a-fc55ccdfe03c"
      },
      "source": [
        "!wget --no-check https://d28rh4a8wq0iu5.cloudfront.net/ads1/data/ERR037900_1.first1000.fastq"
      ],
      "execution_count": 32,
      "outputs": [
        {
          "output_type": "stream",
          "text": [
            "--2020-04-18 03:08:45--  https://d28rh4a8wq0iu5.cloudfront.net/ads1/data/ERR037900_1.first1000.fastq\n",
            "Resolving d28rh4a8wq0iu5.cloudfront.net (d28rh4a8wq0iu5.cloudfront.net)... 13.32.81.145, 13.32.81.9, 13.32.81.156, ...\n",
            "Connecting to d28rh4a8wq0iu5.cloudfront.net (d28rh4a8wq0iu5.cloudfront.net)|13.32.81.145|:443... connected.\n",
            "HTTP request sent, awaiting response... 200 OK\n",
            "Length: 241626 (236K) [application/octet-stream]\n",
            "Saving to: ‘ERR037900_1.first1000.fastq’\n",
            "\n",
            "ERR037900_1.first10 100%[===================>] 235.96K  --.-KB/s    in 0.1s    \n",
            "\n",
            "2020-04-18 03:08:45 (1.97 MB/s) - ‘ERR037900_1.first1000.fastq’ saved [241626/241626]\n",
            "\n"
          ],
          "name": "stdout"
        }
      ]
    },
    {
      "cell_type": "code",
      "metadata": {
        "id": "cKrPoo8XSXgw",
        "colab_type": "code",
        "colab": {}
      },
      "source": [
        "def readFastq(filename):\n",
        "    sequences = []\n",
        "    qualities = []\n",
        "    with open(filename) as fh:\n",
        "        while True:\n",
        "            fh.readline()  # skip name line\n",
        "            seq = fh.readline().rstrip()  # read base sequence\n",
        "            fh.readline()  # skip placeholder line\n",
        "            qual = fh.readline().rstrip() # base quality line\n",
        "            if len(seq) == 0:\n",
        "                break\n",
        "            sequences.append(seq)\n",
        "            qualities.append(qual)\n",
        "    return sequences, qualities"
      ],
      "execution_count": 0,
      "outputs": []
    },
    {
      "cell_type": "code",
      "metadata": {
        "id": "c-GZ1ZOdScDg",
        "colab_type": "code",
        "colab": {}
      },
      "source": [
        "reads, _ = readFastq(\"ERR037900_1.first1000.fastq\")"
      ],
      "execution_count": 0,
      "outputs": []
    },
    {
      "cell_type": "code",
      "metadata": {
        "id": "0IRKxQ9FVmps",
        "colab_type": "code",
        "colab": {
          "base_uri": "https://localhost:8080/",
          "height": 34
        },
        "outputId": "8669a598-4771-47f5-a644-ec4d6aa29923"
      },
      "source": [
        "len(reads)"
      ],
      "execution_count": 55,
      "outputs": [
        {
          "output_type": "execute_result",
          "data": {
            "text/plain": [
              "1000"
            ]
          },
          "metadata": {
            "tags": []
          },
          "execution_count": 55
        }
      ]
    },
    {
      "cell_type": "code",
      "metadata": {
        "id": "f_C_CpoTQpIO",
        "colab_type": "code",
        "colab": {}
      },
      "source": [
        "def findGCbyPosition(Reads):\n",
        "  gc = [0]*100\n",
        "  total = [0]*100\n",
        "\n",
        "  for r in Reads:\n",
        "    for i in range(len(r)):\n",
        "      if r[i]==\"G\" or r[i]==\"C\":\n",
        "        gc[i] += 1\n",
        "      total[i] += 1\n",
        "  \n",
        "  for i in range(len(gc)):\n",
        "    if total [i] >0:\n",
        "      gc[i] /= float(total[i])\n",
        "  return gc"
      ],
      "execution_count": 0,
      "outputs": []
    },
    {
      "cell_type": "code",
      "metadata": {
        "id": "Mh_NID3kS9qA",
        "colab_type": "code",
        "colab": {}
      },
      "source": [
        "gc = findGCbyPosition(reads)"
      ],
      "execution_count": 0,
      "outputs": []
    },
    {
      "cell_type": "code",
      "metadata": {
        "id": "gkg_3g0DTJar",
        "colab_type": "code",
        "colab": {
          "base_uri": "https://localhost:8080/",
          "height": 265
        },
        "outputId": "35a07d27-053f-4330-a8ee-d53d9cfc0824"
      },
      "source": [
        "import matplotlib.pyplot as plt\n",
        "plt.plot (range(len(gc)), gc)\n",
        "plt.show()"
      ],
      "execution_count": 66,
      "outputs": [
        {
          "output_type": "display_data",
          "data": {
            "image/png": "[encoded data removed]",
            "text/plain": [
              "<Figure size 432x288 with 1 Axes>"
            ]
          },
          "metadata": {
            "tags": [],
            "needs_background": "light"
          }
        }
      ]
    },
    {
      "cell_type": "code",
      "metadata": {
        "id": "m_O36FkHW9la",
        "colab_type": "code",
        "colab": {
          "base_uri": "https://localhost:8080/",
          "height": 34
        },
        "outputId": "c7ba2f02-38b4-4a7f-aef7-27b784087161"
      },
      "source": [
        "for i in range(len(gc)):\n",
        "  if gc[i] < 0.1:\n",
        "    print (i)"
      ],
      "execution_count": 69,
      "outputs": [
        {
          "output_type": "stream",
          "text": [
            "66\n"
          ],
          "name": "stdout"
        }
      ]
    }
  ]
}